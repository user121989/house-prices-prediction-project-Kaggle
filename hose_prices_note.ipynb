{
 "cells": [
  {
   "cell_type": "code",
   "execution_count": 69,
   "metadata": {},
   "outputs": [],
   "source": [
    "# import a few packages for the project\n",
    "import pandas as pd\n",
    "import matplotlib.pyplot as plt\n",
    "import seaborn as sns\n",
    "import numpy as np\n",
    "from datetime import datetime, date, time"
   ]
  },
  {
   "cell_type": "code",
   "execution_count": 70,
   "metadata": {},
   "outputs": [],
   "source": [
    "# switch off some warning messages\n",
    "pd.options.mode.chained_assignment = None"
   ]
  },
  {
   "cell_type": "code",
   "execution_count": 71,
   "metadata": {},
   "outputs": [],
   "source": [
    "path = '/Users/anatolyabramovich/Desktop/Documents/Study/Kaggle/house_pricing/train.csv'\n",
    "data = pd.read_csv(path, index_col='Id')"
   ]
  },
  {
   "cell_type": "markdown",
   "metadata": {},
   "source": [
    "# Exploratory Data Analysis (EDA)\n",
    "Let's start with EDA to understand what data  we have"
   ]
  },
  {
   "cell_type": "code",
   "execution_count": 72,
   "metadata": {},
   "outputs": [],
   "source": [
    "# just an additional column which will be needed when merging dataframes \n",
    "data['ind'] = list(range(1,len(data)+1))"
   ]
  },
  {
   "cell_type": "code",
   "execution_count": 73,
   "metadata": {
    "scrolled": true
   },
   "outputs": [
    {
     "name": "stdout",
     "output_type": "stream",
     "text": [
      "<class 'pandas.core.frame.DataFrame'>\n",
      "Int64Index: 1460 entries, 1 to 1460\n",
      "Data columns (total 81 columns):\n",
      " #   Column         Non-Null Count  Dtype  \n",
      "---  ------         --------------  -----  \n",
      " 0   MSSubClass     1460 non-null   int64  \n",
      " 1   MSZoning       1460 non-null   object \n",
      " 2   LotFrontage    1201 non-null   float64\n",
      " 3   LotArea        1460 non-null   int64  \n",
      " 4   Street         1460 non-null   object \n",
      " 5   Alley          91 non-null     object \n",
      " 6   LotShape       1460 non-null   object \n",
      " 7   LandContour    1460 non-null   object \n",
      " 8   Utilities      1460 non-null   object \n",
      " 9   LotConfig      1460 non-null   object \n",
      " 10  LandSlope      1460 non-null   object \n",
      " 11  Neighborhood   1460 non-null   object \n",
      " 12  Condition1     1460 non-null   object \n",
      " 13  Condition2     1460 non-null   object \n",
      " 14  BldgType       1460 non-null   object \n",
      " 15  HouseStyle     1460 non-null   object \n",
      " 16  OverallQual    1460 non-null   int64  \n",
      " 17  OverallCond    1460 non-null   int64  \n",
      " 18  YearBuilt      1460 non-null   int64  \n",
      " 19  YearRemodAdd   1460 non-null   int64  \n",
      " 20  RoofStyle      1460 non-null   object \n",
      " 21  RoofMatl       1460 non-null   object \n",
      " 22  Exterior1st    1460 non-null   object \n",
      " 23  Exterior2nd    1460 non-null   object \n",
      " 24  MasVnrType     1452 non-null   object \n",
      " 25  MasVnrArea     1452 non-null   float64\n",
      " 26  ExterQual      1460 non-null   object \n",
      " 27  ExterCond      1460 non-null   object \n",
      " 28  Foundation     1460 non-null   object \n",
      " 29  BsmtQual       1423 non-null   object \n",
      " 30  BsmtCond       1423 non-null   object \n",
      " 31  BsmtExposure   1422 non-null   object \n",
      " 32  BsmtFinType1   1423 non-null   object \n",
      " 33  BsmtFinSF1     1460 non-null   int64  \n",
      " 34  BsmtFinType2   1422 non-null   object \n",
      " 35  BsmtFinSF2     1460 non-null   int64  \n",
      " 36  BsmtUnfSF      1460 non-null   int64  \n",
      " 37  TotalBsmtSF    1460 non-null   int64  \n",
      " 38  Heating        1460 non-null   object \n",
      " 39  HeatingQC      1460 non-null   object \n",
      " 40  CentralAir     1460 non-null   object \n",
      " 41  Electrical     1459 non-null   object \n",
      " 42  1stFlrSF       1460 non-null   int64  \n",
      " 43  2ndFlrSF       1460 non-null   int64  \n",
      " 44  LowQualFinSF   1460 non-null   int64  \n",
      " 45  GrLivArea      1460 non-null   int64  \n",
      " 46  BsmtFullBath   1460 non-null   int64  \n",
      " 47  BsmtHalfBath   1460 non-null   int64  \n",
      " 48  FullBath       1460 non-null   int64  \n",
      " 49  HalfBath       1460 non-null   int64  \n",
      " 50  BedroomAbvGr   1460 non-null   int64  \n",
      " 51  KitchenAbvGr   1460 non-null   int64  \n",
      " 52  KitchenQual    1460 non-null   object \n",
      " 53  TotRmsAbvGrd   1460 non-null   int64  \n",
      " 54  Functional     1460 non-null   object \n",
      " 55  Fireplaces     1460 non-null   int64  \n",
      " 56  FireplaceQu    770 non-null    object \n",
      " 57  GarageType     1379 non-null   object \n",
      " 58  GarageYrBlt    1379 non-null   float64\n",
      " 59  GarageFinish   1379 non-null   object \n",
      " 60  GarageCars     1460 non-null   int64  \n",
      " 61  GarageArea     1460 non-null   int64  \n",
      " 62  GarageQual     1379 non-null   object \n",
      " 63  GarageCond     1379 non-null   object \n",
      " 64  PavedDrive     1460 non-null   object \n",
      " 65  WoodDeckSF     1460 non-null   int64  \n",
      " 66  OpenPorchSF    1460 non-null   int64  \n",
      " 67  EnclosedPorch  1460 non-null   int64  \n",
      " 68  3SsnPorch      1460 non-null   int64  \n",
      " 69  ScreenPorch    1460 non-null   int64  \n",
      " 70  PoolArea       1460 non-null   int64  \n",
      " 71  PoolQC         7 non-null      object \n",
      " 72  Fence          281 non-null    object \n",
      " 73  MiscFeature    54 non-null     object \n",
      " 74  MiscVal        1460 non-null   int64  \n",
      " 75  MoSold         1460 non-null   int64  \n",
      " 76  YrSold         1460 non-null   int64  \n",
      " 77  SaleType       1460 non-null   object \n",
      " 78  SaleCondition  1460 non-null   object \n",
      " 79  SalePrice      1460 non-null   int64  \n",
      " 80  ind            1460 non-null   int64  \n",
      "dtypes: float64(3), int64(35), object(43)\n",
      "memory usage: 935.3+ KB\n"
     ]
    }
   ],
   "source": [
    "# the first look on the data\n",
    "data.info()"
   ]
  },
  {
   "cell_type": "markdown",
   "metadata": {},
   "source": [
    "### 1. Find and drop columns with a lot of missing data\n",
    "\n",
    "The 0.25 threshold was chosen here, in other words columns that contained more than 75% missing data were dropped.\n",
    "To handle this problem a special function \"cleaning_algorithm\" was written."
   ]
  },
  {
   "cell_type": "code",
   "execution_count": 74,
   "metadata": {},
   "outputs": [],
   "source": [
    "#function to compute null spaces in the columns and delete a column which is not satisfied conditions\n",
    "def cleaning_algorithm(df, percent=0.25):\n",
    "    def checking_amount_of_null_per_column ():\n",
    "        list_suspected = pd.Series(df.columns.to_list())\n",
    "        trouble_list = []\n",
    "        trouble_score = []\n",
    "        for i in list_suspected:\n",
    "            amount_of_na = df[i].isna().sum()\n",
    "            count_percentages_of_na = amount_of_na/len(df.index)\n",
    "            if count_percentages_of_na >= percent:\n",
    "                trouble_list.append(i)\n",
    "                trouble_score.append(count_percentages_of_na)\n",
    "        return pd.Series(trouble_list, trouble_score)\n",
    "    print('initial amount of columns: ', len(df.columns))\n",
    "    print('\\n')\n",
    "    a = checking_amount_of_null_per_column()\n",
    "    a = pd.DataFrame({'column_name':a.values, '% of null values':a.index})\n",
    "    df = df.drop(list(a['column_name']), axis=1)\n",
    "    print('list of columns were dropped:', a, sep='\\n')\n",
    "    print('\\n')\n",
    "    print('amount of columns after cleaning: ', len(df.columns))\n",
    "    return df"
   ]
  },
  {
   "cell_type": "code",
   "execution_count": 75,
   "metadata": {},
   "outputs": [
    {
     "name": "stdout",
     "output_type": "stream",
     "text": [
      "initial amount of columns:  81\n",
      "\n",
      "\n",
      "list of columns were dropped:\n",
      "   column_name  % of null values\n",
      "0        Alley          0.937671\n",
      "1  FireplaceQu          0.472603\n",
      "2       PoolQC          0.995205\n",
      "3        Fence          0.807534\n",
      "4  MiscFeature          0.963014\n",
      "\n",
      "\n",
      "amount of columns after cleaning:  76\n"
     ]
    }
   ],
   "source": [
    "data = cleaning_algorithm(data)"
   ]
  },
  {
   "cell_type": "markdown",
   "metadata": {},
   "source": [
    "### 2. Separate initial data into two dataframes: numerical and categorical\n",
    "\n",
    "Since categorical data and numerical data should be treated differently initial base was separated into the two dataframes: data_categorical and data_numeric. Let's start with the first one."
   ]
  },
  {
   "cell_type": "markdown",
   "metadata": {},
   "source": [
    "### 2.1 Categorical data frame"
   ]
  },
  {
   "cell_type": "code",
   "execution_count": 76,
   "metadata": {},
   "outputs": [],
   "source": [
    "# creating datetime column\n",
    "data.rename(columns={'YrSold':'Year', 'MoSold':'Month'}, inplace=True)\n",
    "data['Day']=1\n",
    "data['YM_sold'] = pd.to_datetime(data[['Year', 'Month', 'Day']])"
   ]
  },
  {
   "cell_type": "code",
   "execution_count": 77,
   "metadata": {},
   "outputs": [],
   "source": [
    "data['MSSubClass'] = data['MSSubClass'].astype('category')"
   ]
  },
  {
   "cell_type": "code",
   "execution_count": 78,
   "metadata": {},
   "outputs": [],
   "source": [
    "data_categorical = data.select_dtypes(include=['object', 'category'])"
   ]
  },
  {
   "cell_type": "code",
   "execution_count": 79,
   "metadata": {},
   "outputs": [],
   "source": [
    "data_categorical['ind'] = list(range(1,1461))"
   ]
  },
  {
   "cell_type": "code",
   "execution_count": 80,
   "metadata": {},
   "outputs": [],
   "source": [
    "data_categorical.loc[:,'CentralAir'] = data_categorical.CentralAir.map({'Y':1, 'N':0})"
   ]
  },
  {
   "cell_type": "code",
   "execution_count": 81,
   "metadata": {},
   "outputs": [],
   "source": [
    "data_categorical = data_categorical.astype('category')"
   ]
  },
  {
   "cell_type": "markdown",
   "metadata": {},
   "source": [
    "####   ================================  Decoding attitude measure data into numeric. Beginning   ================================"
   ]
  },
  {
   "cell_type": "code",
   "execution_count": 82,
   "metadata": {},
   "outputs": [],
   "source": [
    "recoding = ['ExterQual', 'ExterCond', 'BsmtQual', 'BsmtCond', 'HeatingQC', 'KitchenQual', 'GarageQual', 'GarageCond']"
   ]
  },
  {
   "cell_type": "code",
   "execution_count": 83,
   "metadata": {},
   "outputs": [
    {
     "name": "stdout",
     "output_type": "stream",
     "text": [
      "<class 'pandas.core.frame.DataFrame'>\n",
      "Int64Index: 1460 entries, 1 to 1460\n",
      "Data columns (total 8 columns):\n",
      " #   Column       Non-Null Count  Dtype   \n",
      "---  ------       --------------  -----   \n",
      " 0   ExterQual    1460 non-null   category\n",
      " 1   ExterCond    1460 non-null   category\n",
      " 2   BsmtQual     1423 non-null   category\n",
      " 3   BsmtCond     1423 non-null   category\n",
      " 4   HeatingQC    1460 non-null   category\n",
      " 5   KitchenQual  1460 non-null   category\n",
      " 6   GarageQual   1379 non-null   category\n",
      " 7   GarageCond   1379 non-null   category\n",
      "dtypes: category(8)\n",
      "memory usage: 24.3 KB\n"
     ]
    }
   ],
   "source": [
    "data_categorical[recoding].info()"
   ]
  },
  {
   "cell_type": "code",
   "execution_count": 84,
   "metadata": {
    "scrolled": true
   },
   "outputs": [],
   "source": [
    "# decoding letters to numbers\n",
    "data_categorical.loc[:,recoding] = data_categorical.loc[:,recoding].apply(lambda x: x.map({'TA':3, 'Gd':4, 'Fa':2, 'Po':1, 'Ex':5}))"
   ]
  },
  {
   "cell_type": "code",
   "execution_count": 85,
   "metadata": {},
   "outputs": [],
   "source": [
    "# fill na with the most common value in a column\n",
    "data_categorical.loc[:,recoding] = data_categorical.loc[:,recoding].apply(lambda x:x.fillna(x.value_counts().index[0]))"
   ]
  },
  {
   "cell_type": "code",
   "execution_count": 86,
   "metadata": {},
   "outputs": [],
   "source": [
    "# change type of data to numeric\n",
    "data_categorical.loc[:,recoding] = data_categorical.loc[:,recoding].apply(lambda x: x.astype('int64'))"
   ]
  },
  {
   "cell_type": "code",
   "execution_count": 87,
   "metadata": {},
   "outputs": [],
   "source": [
    "# drop columns from the categorical set and add it to the full base\n",
    "data[recoding] = data_categorical[recoding]\n",
    "data_categorical = data_categorical.drop(recoding, axis=1)"
   ]
  },
  {
   "cell_type": "code",
   "execution_count": 88,
   "metadata": {},
   "outputs": [
    {
     "name": "stdout",
     "output_type": "stream",
     "text": [
      "<class 'pandas.core.frame.DataFrame'>\n",
      "Int64Index: 1460 entries, 1 to 1460\n",
      "Data columns (total 8 columns):\n",
      " #   Column       Non-Null Count  Dtype\n",
      "---  ------       --------------  -----\n",
      " 0   ExterQual    1460 non-null   int64\n",
      " 1   ExterCond    1460 non-null   int64\n",
      " 2   BsmtQual     1460 non-null   int64\n",
      " 3   BsmtCond     1460 non-null   int64\n",
      " 4   HeatingQC    1460 non-null   int64\n",
      " 5   KitchenQual  1460 non-null   int64\n",
      " 6   GarageQual   1460 non-null   int64\n",
      " 7   GarageCond   1460 non-null   int64\n",
      "dtypes: int64(8)\n",
      "memory usage: 102.7 KB\n"
     ]
    }
   ],
   "source": [
    "data[recoding].info()"
   ]
  },
  {
   "cell_type": "markdown",
   "metadata": {},
   "source": [
    "#### ================================  Decoding attitude measure data into numeric. End  ================================"
   ]
  },
  {
   "cell_type": "code",
   "execution_count": 89,
   "metadata": {},
   "outputs": [],
   "source": [
    "#and the last one - get dummies features\n",
    "data_categorical = pd.get_dummies(data_categorical, columns=data_categorical.drop('ind', axis=1).columns)"
   ]
  },
  {
   "cell_type": "markdown",
   "metadata": {},
   "source": [
    "### 2.2 NUMERIC"
   ]
  },
  {
   "cell_type": "code",
   "execution_count": 90,
   "metadata": {},
   "outputs": [],
   "source": [
    "data_numeric = data.select_dtypes(include=['int64','float64'])"
   ]
  },
  {
   "cell_type": "code",
   "execution_count": 91,
   "metadata": {},
   "outputs": [
    {
     "data": {
      "text/html": [
       "<div>\n",
       "<style scoped>\n",
       "    .dataframe tbody tr th:only-of-type {\n",
       "        vertical-align: middle;\n",
       "    }\n",
       "\n",
       "    .dataframe tbody tr th {\n",
       "        vertical-align: top;\n",
       "    }\n",
       "\n",
       "    .dataframe thead th {\n",
       "        text-align: right;\n",
       "    }\n",
       "</style>\n",
       "<table border=\"1\" class=\"dataframe\">\n",
       "  <thead>\n",
       "    <tr style=\"text-align: right;\">\n",
       "      <th></th>\n",
       "      <th>LotFrontage</th>\n",
       "      <th>LotArea</th>\n",
       "      <th>OverallQual</th>\n",
       "      <th>OverallCond</th>\n",
       "      <th>YearBuilt</th>\n",
       "      <th>YearRemodAdd</th>\n",
       "      <th>MasVnrArea</th>\n",
       "      <th>ExterQual</th>\n",
       "      <th>ExterCond</th>\n",
       "      <th>BsmtQual</th>\n",
       "      <th>...</th>\n",
       "      <th>EnclosedPorch</th>\n",
       "      <th>3SsnPorch</th>\n",
       "      <th>ScreenPorch</th>\n",
       "      <th>PoolArea</th>\n",
       "      <th>MiscVal</th>\n",
       "      <th>Month</th>\n",
       "      <th>Year</th>\n",
       "      <th>SalePrice</th>\n",
       "      <th>ind</th>\n",
       "      <th>Day</th>\n",
       "    </tr>\n",
       "  </thead>\n",
       "  <tbody>\n",
       "    <tr>\n",
       "      <th>count</th>\n",
       "      <td>1201.000000</td>\n",
       "      <td>1460.000000</td>\n",
       "      <td>1460.000000</td>\n",
       "      <td>1460.000000</td>\n",
       "      <td>1460.000000</td>\n",
       "      <td>1460.000000</td>\n",
       "      <td>1452.000000</td>\n",
       "      <td>1460.00000</td>\n",
       "      <td>1460.000000</td>\n",
       "      <td>1460.000000</td>\n",
       "      <td>...</td>\n",
       "      <td>1460.000000</td>\n",
       "      <td>1460.000000</td>\n",
       "      <td>1460.000000</td>\n",
       "      <td>1460.000000</td>\n",
       "      <td>1460.000000</td>\n",
       "      <td>1460.000000</td>\n",
       "      <td>1460.000000</td>\n",
       "      <td>1460.000000</td>\n",
       "      <td>1460.000000</td>\n",
       "      <td>1460.0</td>\n",
       "    </tr>\n",
       "    <tr>\n",
       "      <th>mean</th>\n",
       "      <td>70.049958</td>\n",
       "      <td>10516.828082</td>\n",
       "      <td>6.099315</td>\n",
       "      <td>5.575342</td>\n",
       "      <td>1971.267808</td>\n",
       "      <td>1984.865753</td>\n",
       "      <td>103.685262</td>\n",
       "      <td>3.39589</td>\n",
       "      <td>3.083562</td>\n",
       "      <td>3.565068</td>\n",
       "      <td>...</td>\n",
       "      <td>21.954110</td>\n",
       "      <td>3.409589</td>\n",
       "      <td>15.060959</td>\n",
       "      <td>2.758904</td>\n",
       "      <td>43.489041</td>\n",
       "      <td>6.321918</td>\n",
       "      <td>2007.815753</td>\n",
       "      <td>180921.195890</td>\n",
       "      <td>730.500000</td>\n",
       "      <td>1.0</td>\n",
       "    </tr>\n",
       "    <tr>\n",
       "      <th>std</th>\n",
       "      <td>24.284752</td>\n",
       "      <td>9981.264932</td>\n",
       "      <td>1.382997</td>\n",
       "      <td>1.112799</td>\n",
       "      <td>30.202904</td>\n",
       "      <td>20.645407</td>\n",
       "      <td>181.066207</td>\n",
       "      <td>0.57428</td>\n",
       "      <td>0.351054</td>\n",
       "      <td>0.678071</td>\n",
       "      <td>...</td>\n",
       "      <td>61.119149</td>\n",
       "      <td>29.317331</td>\n",
       "      <td>55.757415</td>\n",
       "      <td>40.177307</td>\n",
       "      <td>496.123024</td>\n",
       "      <td>2.703626</td>\n",
       "      <td>1.328095</td>\n",
       "      <td>79442.502883</td>\n",
       "      <td>421.610009</td>\n",
       "      <td>0.0</td>\n",
       "    </tr>\n",
       "    <tr>\n",
       "      <th>min</th>\n",
       "      <td>21.000000</td>\n",
       "      <td>1300.000000</td>\n",
       "      <td>1.000000</td>\n",
       "      <td>1.000000</td>\n",
       "      <td>1872.000000</td>\n",
       "      <td>1950.000000</td>\n",
       "      <td>0.000000</td>\n",
       "      <td>2.00000</td>\n",
       "      <td>1.000000</td>\n",
       "      <td>2.000000</td>\n",
       "      <td>...</td>\n",
       "      <td>0.000000</td>\n",
       "      <td>0.000000</td>\n",
       "      <td>0.000000</td>\n",
       "      <td>0.000000</td>\n",
       "      <td>0.000000</td>\n",
       "      <td>1.000000</td>\n",
       "      <td>2006.000000</td>\n",
       "      <td>34900.000000</td>\n",
       "      <td>1.000000</td>\n",
       "      <td>1.0</td>\n",
       "    </tr>\n",
       "    <tr>\n",
       "      <th>25%</th>\n",
       "      <td>59.000000</td>\n",
       "      <td>7553.500000</td>\n",
       "      <td>5.000000</td>\n",
       "      <td>5.000000</td>\n",
       "      <td>1954.000000</td>\n",
       "      <td>1967.000000</td>\n",
       "      <td>0.000000</td>\n",
       "      <td>3.00000</td>\n",
       "      <td>3.000000</td>\n",
       "      <td>3.000000</td>\n",
       "      <td>...</td>\n",
       "      <td>0.000000</td>\n",
       "      <td>0.000000</td>\n",
       "      <td>0.000000</td>\n",
       "      <td>0.000000</td>\n",
       "      <td>0.000000</td>\n",
       "      <td>5.000000</td>\n",
       "      <td>2007.000000</td>\n",
       "      <td>129975.000000</td>\n",
       "      <td>365.750000</td>\n",
       "      <td>1.0</td>\n",
       "    </tr>\n",
       "    <tr>\n",
       "      <th>50%</th>\n",
       "      <td>69.000000</td>\n",
       "      <td>9478.500000</td>\n",
       "      <td>6.000000</td>\n",
       "      <td>5.000000</td>\n",
       "      <td>1973.000000</td>\n",
       "      <td>1994.000000</td>\n",
       "      <td>0.000000</td>\n",
       "      <td>3.00000</td>\n",
       "      <td>3.000000</td>\n",
       "      <td>4.000000</td>\n",
       "      <td>...</td>\n",
       "      <td>0.000000</td>\n",
       "      <td>0.000000</td>\n",
       "      <td>0.000000</td>\n",
       "      <td>0.000000</td>\n",
       "      <td>0.000000</td>\n",
       "      <td>6.000000</td>\n",
       "      <td>2008.000000</td>\n",
       "      <td>163000.000000</td>\n",
       "      <td>730.500000</td>\n",
       "      <td>1.0</td>\n",
       "    </tr>\n",
       "    <tr>\n",
       "      <th>75%</th>\n",
       "      <td>80.000000</td>\n",
       "      <td>11601.500000</td>\n",
       "      <td>7.000000</td>\n",
       "      <td>6.000000</td>\n",
       "      <td>2000.000000</td>\n",
       "      <td>2004.000000</td>\n",
       "      <td>166.000000</td>\n",
       "      <td>4.00000</td>\n",
       "      <td>3.000000</td>\n",
       "      <td>4.000000</td>\n",
       "      <td>...</td>\n",
       "      <td>0.000000</td>\n",
       "      <td>0.000000</td>\n",
       "      <td>0.000000</td>\n",
       "      <td>0.000000</td>\n",
       "      <td>0.000000</td>\n",
       "      <td>8.000000</td>\n",
       "      <td>2009.000000</td>\n",
       "      <td>214000.000000</td>\n",
       "      <td>1095.250000</td>\n",
       "      <td>1.0</td>\n",
       "    </tr>\n",
       "    <tr>\n",
       "      <th>max</th>\n",
       "      <td>313.000000</td>\n",
       "      <td>215245.000000</td>\n",
       "      <td>10.000000</td>\n",
       "      <td>9.000000</td>\n",
       "      <td>2010.000000</td>\n",
       "      <td>2010.000000</td>\n",
       "      <td>1600.000000</td>\n",
       "      <td>5.00000</td>\n",
       "      <td>5.000000</td>\n",
       "      <td>5.000000</td>\n",
       "      <td>...</td>\n",
       "      <td>552.000000</td>\n",
       "      <td>508.000000</td>\n",
       "      <td>480.000000</td>\n",
       "      <td>738.000000</td>\n",
       "      <td>15500.000000</td>\n",
       "      <td>12.000000</td>\n",
       "      <td>2010.000000</td>\n",
       "      <td>755000.000000</td>\n",
       "      <td>1460.000000</td>\n",
       "      <td>1.0</td>\n",
       "    </tr>\n",
       "  </tbody>\n",
       "</table>\n",
       "<p>8 rows × 46 columns</p>\n",
       "</div>"
      ],
      "text/plain": [
       "       LotFrontage        LotArea  OverallQual  OverallCond    YearBuilt  \\\n",
       "count  1201.000000    1460.000000  1460.000000  1460.000000  1460.000000   \n",
       "mean     70.049958   10516.828082     6.099315     5.575342  1971.267808   \n",
       "std      24.284752    9981.264932     1.382997     1.112799    30.202904   \n",
       "min      21.000000    1300.000000     1.000000     1.000000  1872.000000   \n",
       "25%      59.000000    7553.500000     5.000000     5.000000  1954.000000   \n",
       "50%      69.000000    9478.500000     6.000000     5.000000  1973.000000   \n",
       "75%      80.000000   11601.500000     7.000000     6.000000  2000.000000   \n",
       "max     313.000000  215245.000000    10.000000     9.000000  2010.000000   \n",
       "\n",
       "       YearRemodAdd   MasVnrArea   ExterQual    ExterCond     BsmtQual  ...  \\\n",
       "count   1460.000000  1452.000000  1460.00000  1460.000000  1460.000000  ...   \n",
       "mean    1984.865753   103.685262     3.39589     3.083562     3.565068  ...   \n",
       "std       20.645407   181.066207     0.57428     0.351054     0.678071  ...   \n",
       "min     1950.000000     0.000000     2.00000     1.000000     2.000000  ...   \n",
       "25%     1967.000000     0.000000     3.00000     3.000000     3.000000  ...   \n",
       "50%     1994.000000     0.000000     3.00000     3.000000     4.000000  ...   \n",
       "75%     2004.000000   166.000000     4.00000     3.000000     4.000000  ...   \n",
       "max     2010.000000  1600.000000     5.00000     5.000000     5.000000  ...   \n",
       "\n",
       "       EnclosedPorch    3SsnPorch  ScreenPorch     PoolArea       MiscVal  \\\n",
       "count    1460.000000  1460.000000  1460.000000  1460.000000   1460.000000   \n",
       "mean       21.954110     3.409589    15.060959     2.758904     43.489041   \n",
       "std        61.119149    29.317331    55.757415    40.177307    496.123024   \n",
       "min         0.000000     0.000000     0.000000     0.000000      0.000000   \n",
       "25%         0.000000     0.000000     0.000000     0.000000      0.000000   \n",
       "50%         0.000000     0.000000     0.000000     0.000000      0.000000   \n",
       "75%         0.000000     0.000000     0.000000     0.000000      0.000000   \n",
       "max       552.000000   508.000000   480.000000   738.000000  15500.000000   \n",
       "\n",
       "             Month         Year      SalePrice          ind     Day  \n",
       "count  1460.000000  1460.000000    1460.000000  1460.000000  1460.0  \n",
       "mean      6.321918  2007.815753  180921.195890   730.500000     1.0  \n",
       "std       2.703626     1.328095   79442.502883   421.610009     0.0  \n",
       "min       1.000000  2006.000000   34900.000000     1.000000     1.0  \n",
       "25%       5.000000  2007.000000  129975.000000   365.750000     1.0  \n",
       "50%       6.000000  2008.000000  163000.000000   730.500000     1.0  \n",
       "75%       8.000000  2009.000000  214000.000000  1095.250000     1.0  \n",
       "max      12.000000  2010.000000  755000.000000  1460.000000     1.0  \n",
       "\n",
       "[8 rows x 46 columns]"
      ]
     },
     "execution_count": 91,
     "metadata": {},
     "output_type": "execute_result"
    }
   ],
   "source": [
    "#let's watch what we have\n",
    "data_numeric.describe()"
   ]
  },
  {
   "cell_type": "code",
   "execution_count": 92,
   "metadata": {},
   "outputs": [
    {
     "name": "stdout",
     "output_type": "stream",
     "text": [
      "<class 'pandas.core.frame.DataFrame'>\n",
      "Int64Index: 1460 entries, 1 to 1460\n",
      "Data columns (total 46 columns):\n",
      " #   Column         Non-Null Count  Dtype  \n",
      "---  ------         --------------  -----  \n",
      " 0   LotFrontage    1201 non-null   float64\n",
      " 1   LotArea        1460 non-null   int64  \n",
      " 2   OverallQual    1460 non-null   int64  \n",
      " 3   OverallCond    1460 non-null   int64  \n",
      " 4   YearBuilt      1460 non-null   int64  \n",
      " 5   YearRemodAdd   1460 non-null   int64  \n",
      " 6   MasVnrArea     1452 non-null   float64\n",
      " 7   ExterQual      1460 non-null   int64  \n",
      " 8   ExterCond      1460 non-null   int64  \n",
      " 9   BsmtQual       1460 non-null   int64  \n",
      " 10  BsmtCond       1460 non-null   int64  \n",
      " 11  BsmtFinSF1     1460 non-null   int64  \n",
      " 12  BsmtFinSF2     1460 non-null   int64  \n",
      " 13  BsmtUnfSF      1460 non-null   int64  \n",
      " 14  TotalBsmtSF    1460 non-null   int64  \n",
      " 15  HeatingQC      1460 non-null   int64  \n",
      " 16  1stFlrSF       1460 non-null   int64  \n",
      " 17  2ndFlrSF       1460 non-null   int64  \n",
      " 18  LowQualFinSF   1460 non-null   int64  \n",
      " 19  GrLivArea      1460 non-null   int64  \n",
      " 20  BsmtFullBath   1460 non-null   int64  \n",
      " 21  BsmtHalfBath   1460 non-null   int64  \n",
      " 22  FullBath       1460 non-null   int64  \n",
      " 23  HalfBath       1460 non-null   int64  \n",
      " 24  BedroomAbvGr   1460 non-null   int64  \n",
      " 25  KitchenAbvGr   1460 non-null   int64  \n",
      " 26  KitchenQual    1460 non-null   int64  \n",
      " 27  TotRmsAbvGrd   1460 non-null   int64  \n",
      " 28  Fireplaces     1460 non-null   int64  \n",
      " 29  GarageYrBlt    1379 non-null   float64\n",
      " 30  GarageCars     1460 non-null   int64  \n",
      " 31  GarageArea     1460 non-null   int64  \n",
      " 32  GarageQual     1460 non-null   int64  \n",
      " 33  GarageCond     1460 non-null   int64  \n",
      " 34  WoodDeckSF     1460 non-null   int64  \n",
      " 35  OpenPorchSF    1460 non-null   int64  \n",
      " 36  EnclosedPorch  1460 non-null   int64  \n",
      " 37  3SsnPorch      1460 non-null   int64  \n",
      " 38  ScreenPorch    1460 non-null   int64  \n",
      " 39  PoolArea       1460 non-null   int64  \n",
      " 40  MiscVal        1460 non-null   int64  \n",
      " 41  Month          1460 non-null   int64  \n",
      " 42  Year           1460 non-null   int64  \n",
      " 43  SalePrice      1460 non-null   int64  \n",
      " 44  ind            1460 non-null   int64  \n",
      " 45  Day            1460 non-null   int64  \n",
      "dtypes: float64(3), int64(43)\n",
      "memory usage: 536.1 KB\n"
     ]
    }
   ],
   "source": [
    "data_numeric.info()"
   ]
  },
  {
   "cell_type": "code",
   "execution_count": 93,
   "metadata": {},
   "outputs": [],
   "source": [
    "#Fillin missing data\n",
    "data_numeric.LotFrontage.fillna(value=data_numeric.LotFrontage.mean(), inplace=True)"
   ]
  },
  {
   "cell_type": "code",
   "execution_count": 94,
   "metadata": {},
   "outputs": [],
   "source": [
    "data_numeric.GarageYrBlt.fillna(value=data_numeric.YearBuilt.mean(), inplace=True)"
   ]
  },
  {
   "cell_type": "markdown",
   "metadata": {},
   "source": [
    "### 2.2.1 Clearning outliers\n",
    "There are a lot of numeric data and it's natural to check whether outliers occur in the data set."
   ]
  },
  {
   "cell_type": "markdown",
   "metadata": {},
   "source": [
    "#### Visual checking\n",
    "Let's start with the visual checking. Boxplot is the most handy tool for visual outliers checking."
   ]
  },
  {
   "cell_type": "code",
   "execution_count": 95,
   "metadata": {
    "scrolled": false
   },
   "outputs": [
    {
     "data": {
      "image/png": "[encoded data removed]",
      "text/plain": [
       "<Figure size 1080x720 with 2 Axes>"
      ]
     },
     "metadata": {
      "needs_background": "light"
     },
     "output_type": "display_data"
    }
   ],
   "source": [
    "# checking outliers in 'LotArea' column\n",
    "plt.figure(figsize=(15, 10))\n",
    "plt.subplot(2,2,1)\n",
    "sns.boxplot(data_numeric.LotArea)\n",
    "plt.title('Box plot of LotArea', fontsize=20)\n",
    "plt.xlabel(\"LotArea\")\n",
    "plt.subplot(2,2,2)\n",
    "sns.distplot(data_numeric.LotArea)\n",
    "plt.title('LotArea distribution', fontsize=20)\n",
    "plt.xlabel('LotArea')\n",
    "plt.ylabel('% of all')\n",
    "plt.subplots_adjust(bottom=0.25, top=0.75)\n",
    "plt.show()"
   ]
  },
  {
   "cell_type": "code",
   "execution_count": 96,
   "metadata": {},
   "outputs": [
    {
     "data": {
      "image/png": "[encoded data removed]",
      "text/plain": [
       "<Figure size 1080x720 with 2 Axes>"
      ]
     },
     "metadata": {
      "needs_background": "light"
     },
     "output_type": "display_data"
    }
   ],
   "source": [
    "# checking outliers in 'MasVnrArea' column\n",
    "plt.figure(figsize=(15, 10))\n",
    "plt.subplot(2,2,1)\n",
    "sns.boxplot(data_numeric.MasVnrArea)\n",
    "plt.title('Box plot of MasVnrArea', fontsize=20)\n",
    "plt.xlabel(\"MasVnrArea\")\n",
    "plt.subplot(2,2,2)\n",
    "sns.distplot(data_numeric.MasVnrArea)\n",
    "plt.title('MasVnrArea distribution', fontsize=20)\n",
    "plt.xlabel('MasVnrArea')\n",
    "plt.ylabel('% of all')\n",
    "plt.subplots_adjust(bottom=0.25, top=0.75)\n",
    "plt.show()"
   ]
  },
  {
   "cell_type": "code",
   "execution_count": 97,
   "metadata": {},
   "outputs": [
    {
     "data": {
      "image/png": "[encoded data removed]",
      "text/plain": [
       "<Figure size 1080x720 with 2 Axes>"
      ]
     },
     "metadata": {
      "needs_background": "light"
     },
     "output_type": "display_data"
    }
   ],
   "source": [
    "# checking outliers in 'BsmtUnfSF' column\n",
    "plt.figure(figsize=(15, 10))\n",
    "plt.subplot(2,2,1)\n",
    "sns.boxplot(data_numeric.BsmtUnfSF)\n",
    "plt.title('Box plot of BsmtUnfSF', fontsize=20)\n",
    "plt.xlabel(\"BsmtUnfSF\")\n",
    "plt.subplot(2,2,2)\n",
    "sns.distplot(data_numeric.BsmtUnfSF)\n",
    "plt.title('BsmtUnfSF distribution', fontsize=20)\n",
    "plt.xlabel('BsmtUnfSF')\n",
    "plt.ylabel('% of all')\n",
    "plt.subplots_adjust(bottom=0.25, top=0.75)\n",
    "plt.show()"
   ]
  },
  {
   "cell_type": "code",
   "execution_count": 98,
   "metadata": {
    "scrolled": true
   },
   "outputs": [
    {
     "data": {
      "image/png": "[encoded data removed]",
      "text/plain": [
       "<Figure size 1080x720 with 2 Axes>"
      ]
     },
     "metadata": {
      "needs_background": "light"
     },
     "output_type": "display_data"
    }
   ],
   "source": [
    "# checking outliers in '2ndFlrSF' column\n",
    "plt.figure(figsize=(15, 10))\n",
    "plt.subplot(2,2,1)\n",
    "sns.boxplot(data_numeric['2ndFlrSF'])\n",
    "plt.title('Box plot of 2ndFlrSF', fontsize=20)\n",
    "plt.xlabel(\"2ndFlrSF\")\n",
    "plt.subplot(2,2,2)\n",
    "sns.distplot(data_numeric['2ndFlrSF'])\n",
    "plt.title('2ndFlrSF distribution', fontsize=20)\n",
    "plt.xlabel('2ndFlrSF')\n",
    "plt.ylabel('% of all')\n",
    "plt.subplots_adjust(bottom=0.25, top=0.75)\n",
    "plt.show()"
   ]
  },
  {
   "cell_type": "code",
   "execution_count": 99,
   "metadata": {},
   "outputs": [
    {
     "data": {
      "image/png": "[encoded data removed]",
      "text/plain": [
       "<Figure size 1080x720 with 2 Axes>"
      ]
     },
     "metadata": {
      "needs_background": "light"
     },
     "output_type": "display_data"
    }
   ],
   "source": [
    "# checking outliers in 'WoodDeckSF' column\n",
    "plt.figure(figsize=(15, 10))\n",
    "plt.subplot(2,2,1)\n",
    "sns.boxplot(data_numeric['WoodDeckSF'])\n",
    "plt.title('Box plot of WoodDeckSF', fontsize=20)\n",
    "plt.xlabel(\"WoodDeckSF\")\n",
    "plt.subplot(2,2,2)\n",
    "sns.distplot(data_numeric['WoodDeckSF'])\n",
    "plt.title('WoodDeckSF distribution', fontsize=20)\n",
    "plt.xlabel('WoodDeckSF')\n",
    "plt.ylabel('% of all')\n",
    "plt.subplots_adjust(bottom=0.25, top=0.75)\n",
    "plt.show()"
   ]
  },
  {
   "cell_type": "code",
   "execution_count": 100,
   "metadata": {},
   "outputs": [
    {
     "data": {
      "image/png": "[encoded data removed]",
      "text/plain": [
       "<Figure size 1080x720 with 2 Axes>"
      ]
     },
     "metadata": {
      "needs_background": "light"
     },
     "output_type": "display_data"
    }
   ],
   "source": [
    "# checking outliers in 'OpenPorchSF' column\n",
    "plt.figure(figsize=(15, 10))\n",
    "plt.subplot(2,2,1)\n",
    "sns.boxplot(data_numeric['OpenPorchSF'])\n",
    "plt.title('Box plot of OpenPorchSF', fontsize=20)\n",
    "plt.xlabel(\"OpenPorchSF\")\n",
    "plt.subplot(2,2,2)\n",
    "sns.distplot(data_numeric['OpenPorchSF'])\n",
    "plt.title('OpenPorchSF distribution', fontsize=20)\n",
    "plt.xlabel('OpenPorchSF')\n",
    "plt.ylabel('% of all')\n",
    "plt.subplots_adjust(bottom=0.25, top=0.75)\n",
    "plt.show()"
   ]
  },
  {
   "cell_type": "code",
   "execution_count": 101,
   "metadata": {},
   "outputs": [
    {
     "data": {
      "image/png": "[encoded data removed]",
      "text/plain": [
       "<Figure size 1080x720 with 2 Axes>"
      ]
     },
     "metadata": {
      "needs_background": "light"
     },
     "output_type": "display_data"
    }
   ],
   "source": [
    "# checking outliers in 'SalePrice' column\n",
    "plt.figure(figsize=(15, 10))\n",
    "plt.subplot(2,2,1)\n",
    "sns.boxplot(data_numeric['SalePrice'])\n",
    "plt.title('Box plot of SalePrice', fontsize=20)\n",
    "plt.xlabel(\"SalePrice\")\n",
    "plt.subplot(2,2,2)\n",
    "sns.distplot(data_numeric['SalePrice'])\n",
    "plt.title('SalePrice distribution', fontsize=20)\n",
    "plt.xlabel('SalePrice')\n",
    "plt.ylabel('% of all')\n",
    "plt.subplots_adjust(bottom=0.25, top=0.75)\n",
    "plt.show()"
   ]
  },
  {
   "cell_type": "code",
   "execution_count": 102,
   "metadata": {},
   "outputs": [
    {
     "data": {
      "image/png": "[encoded data removed]",
      "text/plain": [
       "<Figure size 1080x720 with 2 Axes>"
      ]
     },
     "metadata": {
      "needs_background": "light"
     },
     "output_type": "display_data"
    }
   ],
   "source": [
    "# checking outliers in 'LotFrontage' column\n",
    "plt.figure(figsize=(15, 10))\n",
    "plt.subplot(2,2,1)\n",
    "sns.boxplot(data_numeric['LotFrontage'])\n",
    "plt.title('Box plot of LotFrontage', fontsize=20)\n",
    "plt.xlabel(\"LotFrontage\")\n",
    "plt.subplot(2,2,2)\n",
    "sns.distplot(data_numeric['LotFrontage'])\n",
    "plt.title('LotFrontage distribution', fontsize=20)\n",
    "plt.xlabel('LotFrontage')\n",
    "plt.ylabel('% of all')\n",
    "plt.subplots_adjust(bottom=0.25, top=0.75)\n",
    "plt.show()"
   ]
  },
  {
   "cell_type": "code",
   "execution_count": 103,
   "metadata": {},
   "outputs": [
    {
     "data": {
      "image/png": "[encoded data removed]",
      "text/plain": [
       "<Figure size 1080x720 with 2 Axes>"
      ]
     },
     "metadata": {
      "needs_background": "light"
     },
     "output_type": "display_data"
    }
   ],
   "source": [
    "# checking outliers in 'BsmtFinSF1' column\n",
    "plt.figure(figsize=(15, 10))\n",
    "plt.subplot(2,2,1)\n",
    "sns.boxplot(data_numeric['BsmtFinSF1'])\n",
    "plt.title('Box plot of BsmtFinSF1', fontsize=20)\n",
    "plt.xlabel(\"BsmtFinSF1\")\n",
    "plt.subplot(2,2,2)\n",
    "sns.distplot(data_numeric['BsmtFinSF1'])\n",
    "plt.title('BsmtFinSF1 distribution', fontsize=20)\n",
    "plt.xlabel('BsmtFinSF1')\n",
    "plt.ylabel('% of all')\n",
    "plt.subplots_adjust(bottom=0.25, top=0.75)\n",
    "plt.show()"
   ]
  },
  {
   "cell_type": "code",
   "execution_count": 104,
   "metadata": {},
   "outputs": [
    {
     "data": {
      "image/png": "[encoded data removed]",
      "text/plain": [
       "<Figure size 1080x720 with 2 Axes>"
      ]
     },
     "metadata": {
      "needs_background": "light"
     },
     "output_type": "display_data"
    }
   ],
   "source": [
    "# checking outliers in 'TotalBsmtSF' column\n",
    "plt.figure(figsize=(15, 10))\n",
    "plt.subplot(2,2,1)\n",
    "sns.boxplot(data_numeric['TotalBsmtSF'])\n",
    "plt.title('Box plot of TotalBsmtSF', fontsize=20)\n",
    "plt.xlabel(\"TotalBsmtSF\")\n",
    "plt.subplot(2,2,2)\n",
    "sns.distplot(data_numeric['TotalBsmtSF'])\n",
    "plt.title('TotalBsmtSF distribution', fontsize=20)\n",
    "plt.xlabel('TotalBsmtSF')\n",
    "plt.ylabel('% of all')\n",
    "plt.subplots_adjust(bottom=0.25, top=0.75)\n",
    "plt.show()"
   ]
  },
  {
   "cell_type": "code",
   "execution_count": 105,
   "metadata": {},
   "outputs": [
    {
     "data": {
      "image/png": "[encoded data removed]",
      "text/plain": [
       "<Figure size 1080x720 with 2 Axes>"
      ]
     },
     "metadata": {
      "needs_background": "light"
     },
     "output_type": "display_data"
    }
   ],
   "source": [
    "# checking outliers in '1stFlrSF' column\n",
    "plt.figure(figsize=(15, 10))\n",
    "plt.subplot(2,2,1)\n",
    "sns.boxplot(data_numeric['1stFlrSF'])\n",
    "plt.title('Box plot of 1stFlrSF', fontsize=20)\n",
    "plt.xlabel(\"1stFlrSF\")\n",
    "plt.subplot(2,2,2)\n",
    "sns.distplot(data_numeric['1stFlrSF'])\n",
    "plt.title('1stFlrSF distribution', fontsize=20)\n",
    "plt.xlabel('1stFlrSF')\n",
    "plt.ylabel('% of all')\n",
    "plt.subplots_adjust(bottom=0.25, top=0.75)\n",
    "plt.show()"
   ]
  },
  {
   "cell_type": "code",
   "execution_count": 106,
   "metadata": {},
   "outputs": [
    {
     "data": {
      "image/png": "[encoded data removed]",
      "text/plain": [
       "<Figure size 1080x720 with 2 Axes>"
      ]
     },
     "metadata": {
      "needs_background": "light"
     },
     "output_type": "display_data"
    }
   ],
   "source": [
    "# checking outliers in 'GrLivArea' column\n",
    "plt.figure(figsize=(15, 10))\n",
    "plt.subplot(2,2,1)\n",
    "sns.boxplot(data_numeric['GrLivArea'])\n",
    "plt.title('Box plot of GrLivArea', fontsize=20)\n",
    "plt.xlabel(\"GrLivArea\")\n",
    "plt.subplot(2,2,2)\n",
    "sns.distplot(data_numeric['GrLivArea'])\n",
    "plt.title('GrLivArea distribution', fontsize=20)\n",
    "plt.xlabel('GrLivArea')\n",
    "plt.ylabel('% of all')\n",
    "plt.subplots_adjust(bottom=0.25, top=0.75)\n",
    "plt.show()"
   ]
  },
  {
   "cell_type": "code",
   "execution_count": 107,
   "metadata": {},
   "outputs": [
    {
     "data": {
      "image/png": "[encoded data removed]",
      "text/plain": [
       "<Figure size 1080x720 with 2 Axes>"
      ]
     },
     "metadata": {
      "needs_background": "light"
     },
     "output_type": "display_data"
    }
   ],
   "source": [
    "# checking outliers in 'GarageArea' column\n",
    "plt.figure(figsize=(15, 10))\n",
    "plt.subplot(2,2,1)\n",
    "sns.boxplot(data_numeric['GarageArea'])\n",
    "plt.title('Box plot of GarageArea', fontsize=20)\n",
    "plt.xlabel(\"GarageArea\")\n",
    "plt.subplot(2,2,2)\n",
    "sns.distplot(data_numeric['GarageArea'])\n",
    "plt.title('GarageArea distribution', fontsize=20)\n",
    "plt.xlabel('GarageArea')\n",
    "plt.ylabel('% of all')\n",
    "plt.subplots_adjust(bottom=0.25, top=0.75)\n",
    "plt.show()"
   ]
  },
  {
   "cell_type": "markdown",
   "metadata": {},
   "source": [
    "#### Z-score outliers detection\n",
    "There a lot of outliers. Thus,  we need a relevant algorithm that is able to detect outliers in the each variable. For this purpose z_score_cleaning_all algorithm was written."
   ]
  },
  {
   "cell_type": "code",
   "execution_count": 108,
   "metadata": {},
   "outputs": [],
   "source": [
    "def z_score_cleaning_all(df):\n",
    "    outliers = []\n",
    "    list_of_outliers = []\n",
    "    #ban_list consists of the columns that are not suitable for z-score analysis\n",
    "    ban_list = ['BsmtFinSF2','LowQualFinSF','BsmtFullBath','BsmtHalfBath','HalfBath','Fireplaces','EnclosedPorch','3SsnPorch','ScreenPorch',\n",
    "'PoolArea','MiscVal','Month', 'ExterQual', 'ExterCond', 'BsmtQual', 'BsmtCond', 'HeatingQC', 'KitchenQual', 'OverallCond', 'YearBuilt',\n",
    " 'YearRemodAdd', 'GarageQual', 'GarageCond', 'Year', 'Day', 'index', 'OverallQual', 'FullBath', 'BedroomAbvGr', 'KitchenAbvGr', 'TotRmsAbvGrd', 'GarageYrBlt','GarageCars']\n",
    "    for col in range(len(df.columns)):\n",
    "        std = df.iloc[:,col].std()\n",
    "        mean = df.iloc[:,col].mean()\n",
    "        if df.columns[col] not in ban_list:\n",
    "            for i in range(len(df.iloc[:,col])):\n",
    "                if abs((df.iloc[i,col]-mean))/std>3:\n",
    "                    list_of_outliers.append(i)\n",
    "            \n",
    "#return unique values only            \n",
    "            uniq_l = []\n",
    "            for i in list_of_outliers:\n",
    "                if i not in uniq_l:\n",
    "                    uniq_l.append(i+1)\n",
    "        \n",
    "#buble sort\n",
    "            for i in range(len(uniq_l)):\n",
    "                for j in range(len(uniq_l)-1):\n",
    "                    if uniq_l[j] > uniq_l[j+1]:\n",
    "                        uniq_l[j], uniq_l[j+1] =  uniq_l[j+1], uniq_l[j]\n",
    "    #outliers = np.array(list_of_outliers)\n",
    "    return uniq_l"
   ]
  },
  {
   "cell_type": "code",
   "execution_count": 109,
   "metadata": {},
   "outputs": [],
   "source": [
    "# list with detected outliers\n",
    "list_out = z_score_cleaning_all(data_numeric)"
   ]
  },
  {
   "cell_type": "code",
   "execution_count": 110,
   "metadata": {},
   "outputs": [],
   "source": [
    "# dropping outliers\n",
    "data_numeric = data_numeric.drop(list_out)"
   ]
  },
  {
   "cell_type": "markdown",
   "metadata": {},
   "source": [
    "### 2.2.2. Checking logic of the numeric data\n",
    "\n",
    "The data contains information about different parameters of area. This is logical to check whether lot area always bigger than other parameters."
   ]
  },
  {
   "cell_type": "code",
   "execution_count": 111,
   "metadata": {},
   "outputs": [],
   "source": [
    "# creating list with necessary data\n",
    "def checking_area_list(data):\n",
    "    list_for_checking = []\n",
    "    \n",
    "    bench_list = [\"SF\", \"Area\", \"Enclosed\"]\n",
    "    for i in data.columns:\n",
    "        for bench in bench_list:\n",
    "            if bench in i:\n",
    "                list_for_checking.append(i)\n",
    "    #delete the first column, because it's a benchmark value            \n",
    "    return list_for_checking[1:]"
   ]
  },
  {
   "cell_type": "code",
   "execution_count": 112,
   "metadata": {},
   "outputs": [],
   "source": [
    "list_area_check=checking_area_list(data_numeric)"
   ]
  },
  {
   "cell_type": "code",
   "execution_count": 113,
   "metadata": {},
   "outputs": [],
   "source": [
    "def check_ar(data, bench, list_to_check):\n",
    "    for i in list_to_check:\n",
    "        data[bench+' '+i] = np.where(data[bench] < data[i], 'True', 'False')\n",
    "    return data"
   ]
  },
  {
   "cell_type": "code",
   "execution_count": 114,
   "metadata": {},
   "outputs": [],
   "source": [
    "expended_data = check_ar(data_numeric, 'LotArea', list_area_check)"
   ]
  },
  {
   "cell_type": "code",
   "execution_count": 115,
   "metadata": {},
   "outputs": [],
   "source": [
    "st = []\n",
    "count = []\n",
    "for i in expended_data.iloc[:,-14:].columns:\n",
    "    st = list(expended_data.loc[:,i])\n",
    "    count.append(len(np.where(st)[0]))"
   ]
  },
  {
   "cell_type": "code",
   "execution_count": 118,
   "metadata": {},
   "outputs": [
    {
     "data": {
      "text/plain": [
       "True"
      ]
     },
     "execution_count": 118,
     "metadata": {},
     "output_type": "execute_result"
    }
   ],
   "source": [
    "count == [1341, 1341, 1341, 1341, 1341, 1341, 1341, 1341, 1341, 1341, 1341, 1341, 1341, 1341]"
   ]
  },
  {
   "cell_type": "code",
   "execution_count": 120,
   "metadata": {},
   "outputs": [],
   "source": [
    "data_numeric = data_numeric.drop(data_numeric.columns[-14:], axis=1)"
   ]
  },
  {
   "cell_type": "markdown",
   "metadata": {},
   "source": [
    "Thus, there is no an area that is bigger than lot area."
   ]
  },
  {
   "cell_type": "markdown",
   "metadata": {},
   "source": [
    "### 1.3 Merging 2 DFs\n",
    "Now it's necessary to merge categorical and numerical data sets into the one dataframe."
   ]
  },
  {
   "cell_type": "code",
   "execution_count": 121,
   "metadata": {},
   "outputs": [],
   "source": [
    "merged_data = pd.merge(data_numeric, data_categorical, how='left', on='ind')"
   ]
  },
  {
   "cell_type": "code",
   "execution_count": 122,
   "metadata": {},
   "outputs": [],
   "source": [
    "merged_data = merged_data.dropna()"
   ]
  },
  {
   "cell_type": "code",
   "execution_count": 123,
   "metadata": {},
   "outputs": [],
   "source": [
    "merged_data = merged_data.reset_index(drop=True)"
   ]
  },
  {
   "cell_type": "code",
   "execution_count": 124,
   "metadata": {},
   "outputs": [],
   "source": [
    "merged_data = merged_data.drop('ind', axis=1)"
   ]
  },
  {
   "cell_type": "code",
   "execution_count": 125,
   "metadata": {},
   "outputs": [],
   "source": [
    "merged_data = pd.get_dummies(merged_data, columns=data_categorical.drop('ind', axis=1).columns)"
   ]
  },
  {
   "cell_type": "code",
   "execution_count": 126,
   "metadata": {},
   "outputs": [
    {
     "name": "stdout",
     "output_type": "stream",
     "text": [
      "<class 'pandas.core.frame.DataFrame'>\n",
      "RangeIndex: 1335 entries, 0 to 1334\n",
      "Columns: 467 entries, LotFrontage to SaleCondition_Partial_1\n",
      "dtypes: float64(3), int64(42), uint8(422)\n",
      "memory usage: 1019.6 KB\n"
     ]
    }
   ],
   "source": [
    "merged_data.info()"
   ]
  },
  {
   "cell_type": "markdown",
   "metadata": {},
   "source": [
    "### 1.4 Check importance of the variables\n",
    "\n",
    "Data frame includes 467 columns now, but not all of them deliver important contribution to the prediction model. Thus, it's logical to check importance of the features in the data frame and drop not useful variables."
   ]
  },
  {
   "cell_type": "code",
   "execution_count": 128,
   "metadata": {},
   "outputs": [],
   "source": [
    "from sklearn.feature_selection import SelectKBest\n",
    "from sklearn.feature_selection import chi2"
   ]
  },
  {
   "cell_type": "code",
   "execution_count": 129,
   "metadata": {},
   "outputs": [],
   "source": [
    "X_train = merged_data.loc[1:].drop('SalePrice', axis=1)\n",
    "y_train = merged_data.loc[1:].SalePrice"
   ]
  },
  {
   "cell_type": "code",
   "execution_count": 130,
   "metadata": {},
   "outputs": [],
   "source": [
    "# import modules for work\n",
    "from sklearn.preprocessing import StandardScaler\n",
    "from sklearn.pipeline import Pipeline\n",
    "from sklearn.metrics import accuracy_score\n",
    "from sklearn.model_selection import cross_val_score\n",
    "from sklearn.model_selection import GridSearchCV"
   ]
  },
  {
   "cell_type": "markdown",
   "metadata": {},
   "source": [
    "Here it's logical to implement SelectKBest algorithm with chi2 that can return requred number of features. Say it will be 19 features."
   ]
  },
  {
   "cell_type": "code",
   "execution_count": 162,
   "metadata": {},
   "outputs": [
    {
     "data": {
      "text/plain": [
       "(1334, 19)"
      ]
     },
     "execution_count": 162,
     "metadata": {},
     "output_type": "execute_result"
    }
   ],
   "source": [
    "#Let's create a new df with the k-highest rang\n",
    "X_new = SelectKBest(chi2, k=19).fit_transform(X_train, y_train)\n",
    "X_new.shape"
   ]
  },
  {
   "cell_type": "markdown",
   "metadata": {},
   "source": [
    "But for the further work with test samples it's important to know which columns were chosen. Let's implement code below to understand that."
   ]
  },
  {
   "cell_type": "code",
   "execution_count": 163,
   "metadata": {},
   "outputs": [],
   "source": [
    "# Create and fit selector\n",
    "selector = SelectKBest(chi2, k=19)\n",
    "selector.fit(X_train, y_train)\n",
    "# Get columns to keep and create new dataframe with those only\n",
    "cols = selector.get_support(indices=True)"
   ]
  },
  {
   "cell_type": "markdown",
   "metadata": {},
   "source": [
    "Before we start building models, let's check what the ranking of the importance of variables will be generated by the Random Forest algorithm."
   ]
  },
  {
   "cell_type": "code",
   "execution_count": 164,
   "metadata": {},
   "outputs": [
    {
     "data": {
      "image/png": "[encoded data removed]",
      "text/plain": [
       "<Figure size 432x288 with 1 Axes>"
      ]
     },
     "metadata": {
      "needs_background": "light"
     },
     "output_type": "display_data"
    }
   ],
   "source": [
    "### CHECKING IMPORTANT FEATURES\n",
    "\n",
    "# Import RandomForestRegressor\n",
    "from sklearn.ensemble import RandomForestRegressor\n",
    "\n",
    "# Instantiate rf\n",
    "rf = RandomForestRegressor(n_estimators=25,\n",
    "            random_state=2)\n",
    "            \n",
    "# Fit rf to the training set    \n",
    "rf.fit(X_train, y_train) \n",
    "\n",
    "# Create a pd.Series of features importances\n",
    "importances = pd.Series(data=rf.feature_importances_,\n",
    "                        index= X_train.columns)\n",
    "\n",
    "# Sort importances\n",
    "importances_sorted = importances.sort_values()\n",
    "importances_sorted = importances_sorted\n",
    "\n",
    "# Draw a horizontal barplot of importances_sorted\n",
    "importances_sorted.tail(25).plot(kind='barh', color='lightgreen')\n",
    "plt.title('Features Importances')\n",
    "plt.show()# Create a pd.Series of features importances"
   ]
  },
  {
   "cell_type": "markdown",
   "metadata": {},
   "source": [
    "Let's append 'OverallQual' variable to the current list of the selected features."
   ]
  },
  {
   "cell_type": "code",
   "execution_count": 165,
   "metadata": {},
   "outputs": [],
   "source": [
    "cols = np.append(cols, merged_data.drop('SalePrice', axis=1).columns.get_loc('OverallQual'))"
   ]
  },
  {
   "cell_type": "code",
   "execution_count": 166,
   "metadata": {},
   "outputs": [],
   "source": [
    "important_cols = merged_data.drop('SalePrice', axis=1).iloc[:,cols].columns"
   ]
  },
  {
   "cell_type": "code",
   "execution_count": 167,
   "metadata": {},
   "outputs": [
    {
     "data": {
      "text/plain": [
       "Index(['LotFrontage', 'LotArea', 'MasVnrArea', 'BsmtFinSF1', 'BsmtFinSF2',\n",
       "       'BsmtUnfSF', 'TotalBsmtSF', '1stFlrSF', '2ndFlrSF', 'LowQualFinSF',\n",
       "       'GrLivArea', 'GarageArea', 'WoodDeckSF', 'OpenPorchSF', 'EnclosedPorch',\n",
       "       '3SsnPorch', 'ScreenPorch', 'PoolArea', 'MiscVal', 'OverallQual'],\n",
       "      dtype='object')"
      ]
     },
     "execution_count": 167,
     "metadata": {},
     "output_type": "execute_result"
    }
   ],
   "source": [
    "important_cols"
   ]
  },
  {
   "cell_type": "code",
   "execution_count": 168,
   "metadata": {},
   "outputs": [
    {
     "data": {
      "text/plain": [
       "(1334, 20)"
      ]
     },
     "execution_count": 168,
     "metadata": {},
     "output_type": "execute_result"
    }
   ],
   "source": [
    "X_new_1=merged_data[important_cols]\n",
    "X_new_1 = X_new_1[1:]\n",
    "X_new_1.shape"
   ]
  },
  {
   "cell_type": "markdown",
   "metadata": {},
   "source": [
    "# Build a prediction model"
   ]
  },
  {
   "cell_type": "markdown",
   "metadata": {},
   "source": [
    "Let's start with the simplest one - linear regression model"
   ]
  },
  {
   "cell_type": "code",
   "execution_count": 169,
   "metadata": {},
   "outputs": [
    {
     "data": {
      "text/plain": [
       "0.8267708034690848"
      ]
     },
     "execution_count": 169,
     "metadata": {},
     "output_type": "execute_result"
    }
   ],
   "source": [
    "### Linear regression ###\n",
    "\n",
    "\n",
    "# Import necessary modules\n",
    "from sklearn import linear_model\n",
    "from sklearn.model_selection import cross_val_score\n",
    "\n",
    "\n",
    "Linear_reg = linear_model.LinearRegression()\n",
    "\n",
    "LR_scores = cross_val_score(\n",
    "        Linear_reg, X_new_1, y_train,\n",
    "        cv=5)\n",
    "\n",
    "LR_scores.mean()\n"
   ]
  },
  {
   "cell_type": "markdown",
   "metadata": {},
   "source": [
    "Not bad, but let's check more sophisticated models."
   ]
  },
  {
   "cell_type": "code",
   "execution_count": 170,
   "metadata": {},
   "outputs": [
    {
     "name": "stdout",
     "output_type": "stream",
     "text": [
      "Tuned Logistic Regression Parameters: {'knn__n_neighbors': 15}\n",
      "Best score is 0.7806676736672012\n"
     ]
    }
   ],
   "source": [
    "### KNN with a number of neighbors tuning ###\n",
    "\n",
    "\n",
    "# Import necessary modules\n",
    "from sklearn.neighbors import KNeighborsRegressor\n",
    "\n",
    "\n",
    "# Setup the pipeline\n",
    "steps = [('scaler', StandardScaler()),\n",
    "         ('knn', KNeighborsRegressor())]\n",
    "\n",
    "pipeline_knn = Pipeline(steps)\n",
    "\n",
    "\n",
    "\n",
    "# Setup the hyperparameter grid\n",
    "param_grid = {'knn__n_neighbors': np.array(range(1,20))}\n",
    "\n",
    "# Instantiate the GridSearchCV object: knn_cv\n",
    "knn_cv = GridSearchCV(pipeline_knn, param_grid, cv=5)\n",
    "\n",
    "# Fit it to the data\n",
    "knn_cv.fit(X_new_1, y_train)  ######Better  use training data, not whole data\n",
    "\n",
    "# Print the tuned parameters and score\n",
    "print(\"Tuned Logistic Regression Parameters: {}\".format(knn_cv.best_params_)) \n",
    "print(\"Best score is {}\".format(knn_cv.best_score_))"
   ]
  },
  {
   "cell_type": "code",
   "execution_count": 171,
   "metadata": {},
   "outputs": [
    {
     "name": "stdout",
     "output_type": "stream",
     "text": [
      "Tuned Decision Tree Parameters: {'max_depth': None, 'max_features': 5, 'min_samples_leaf': 5}\n",
      "Best score is 0.74059724211938\n"
     ]
    }
   ],
   "source": [
    "# Import necessary modules\n",
    "from sklearn.tree import DecisionTreeRegressor \n",
    "\n",
    "# Setup the parameters and distributions to sample from: param_dist - _just a list of parametrs to check_\n",
    "param_dist = {\"max_depth\": [3, None],\n",
    "              \"max_features\": np.array(range(1,7)),\n",
    "              \"min_samples_leaf\": np.array(range(1,7))}\n",
    "\n",
    "# Instantiate a Decision Tree Regressor: tree\n",
    "tree = DecisionTreeRegressor()\n",
    "\n",
    "# Instantiate the RandomizedSearchCV object: tree_cv\n",
    "tree_cv = GridSearchCV(tree, param_dist, cv=5)\n",
    "\n",
    "# Fit it to the data\n",
    "\n",
    "tree_cv.fit(X_new_1,y_train)\n",
    "\n",
    "# Print the tuned parameters and score\n",
    "print(\"Tuned Decision Tree Parameters: {}\".format(tree_cv.best_params_))\n",
    "print(\"Best score is {}\".format(tree_cv.best_score_))"
   ]
  },
  {
   "cell_type": "code",
   "execution_count": 174,
   "metadata": {},
   "outputs": [
    {
     "name": "stdout",
     "output_type": "stream",
     "text": [
      "Tuned Decision Tree Parameters: {'max_depth': 6, 'max_features': 'auto', 'min_samples_leaf': 4, 'n_estimators': 500}\n",
      "Best score is 0.8407217635500137\n"
     ]
    }
   ],
   "source": [
    "from sklearn.ensemble import RandomForestRegressor\n",
    "\n",
    "### Define the dictionary 'params_rf'\n",
    "params_rf = {\n",
    "    'n_estimators':[int(x) for x in np.linspace(start = 100, stop = 500, num = 4)],\n",
    "    'max_features':['log2','auto','sqrt'],\n",
    "    'max_depth' : np.array(range(1,7)),\n",
    "    'min_samples_leaf':[int(x) for x in np.linspace(start = 1, stop = 10, num = 4)]}\n",
    "\n",
    "\n",
    "\n",
    "### Setup a model\n",
    "# Import GridSearchCV\n",
    "from sklearn.model_selection import GridSearchCV\n",
    "rf = RandomForestRegressor()\n",
    "\n",
    "# Instantiate grid_rf\n",
    "grid_rf = GridSearchCV(estimator=rf,\n",
    "                       param_grid=params_rf,\n",
    "                       cv=3)\n",
    "\n",
    "grid_rf.fit(X_new_1, y_train)\n",
    "\n",
    "\n",
    "print(\"Tuned Decision Tree Parameters: {}\".format(grid_rf.best_params_))\n",
    "print(\"Best score is {}\".format(grid_rf.best_score_))"
   ]
  },
  {
   "cell_type": "code",
   "execution_count": 177,
   "metadata": {},
   "outputs": [
    {
     "name": "stdout",
     "output_type": "stream",
     "text": [
      "Tuned Model Parameters: {'base_estimator__splitter': 'best', 'n_estimators': 1}\n",
      "Best score is 0.7064298861946131\n"
     ]
    }
   ],
   "source": [
    "### Set up AdaBoostClassifier\n",
    "\n",
    "# Import AdaBoostClassifier\n",
    "from sklearn.ensemble import AdaBoostRegressor\n",
    "\n",
    "# Parametrs for griding\n",
    "param_grid = {\n",
    "              \"base_estimator__splitter\" :   [\"best\", \"random\"],\n",
    "              \"n_estimators\": [1, 2]\n",
    "             }\n",
    "\n",
    "\n",
    "# Instantiate dt\n",
    "dt = DecisionTreeRegressor(max_depth= None, max_features=5, min_samples_leaf=6)\n",
    "\n",
    "# Instantiate ada\n",
    "ada = AdaBoostRegressor(base_estimator=dt)\n",
    "\n",
    "\n",
    "grid_ada = GridSearchCV(estimator=ada,\n",
    "                       param_grid=param_grid,\n",
    "                       cv=3)\n",
    "\n",
    "### Fitting the model and predicting probability of their decisions\n",
    "# Fit ada to the training set\n",
    "grid_ada.fit(X_new_1, y_train)\n",
    "\n",
    "\n",
    "\n",
    "# Compute and print metrics\n",
    "print(\"Tuned Model Parameters: {}\".format(grid_ada.best_params_))\n",
    "print(\"Best score is {}\".format(grid_ada.best_score_))"
   ]
  },
  {
   "cell_type": "code",
   "execution_count": 173,
   "metadata": {},
   "outputs": [
    {
     "name": "stdout",
     "output_type": "stream",
     "text": [
      "Fitting 2 folds for each of 9 candidates, totalling 18 fits\n"
     ]
    },
    {
     "name": "stderr",
     "output_type": "stream",
     "text": [
      "[Parallel(n_jobs=5)]: Using backend LokyBackend with 5 concurrent workers.\n",
      "[Parallel(n_jobs=5)]: Done  18 out of  18 | elapsed:   16.6s finished\n"
     ]
    },
    {
     "name": "stdout",
     "output_type": "stream",
     "text": [
      "[18:11:27] WARNING: /Users/travis/build/dmlc/xgboost/src/objective/regression_obj.cu:174: reg:linear is now deprecated in favor of reg:squarederror.\n",
      "[18:11:27] WARNING: /Users/travis/build/dmlc/xgboost/src/learner.cc:516: \n",
      "Parameters: { silent } might not be used.\n",
      "\n",
      "  This may not be accurate due to some parameters are only used in language bindings but\n",
      "  passed down to XGBoost core.  Or some parameters are not used but slip through this\n",
      "  verification. Please open an issue if you find above cases.\n",
      "\n",
      "\n",
      "[18:11:28] WARNING: /Users/travis/build/dmlc/xgboost/src/objective/regression_obj.cu:174: reg:linear is now deprecated in favor of reg:squarederror.\n",
      "Tuned Model Parameters: {'colsample_bytree': 0.7, 'learning_rate': 0.03, 'max_depth': 7, 'min_child_weight': 4, 'n_estimators': 500, 'nthread': 4, 'objective': 'reg:linear', 'silent': 1, 'subsample': 0.7}\n",
      "Best score is 0.847823437568618\n"
     ]
    }
   ],
   "source": [
    "import xgboost as xgb\n",
    "from sklearn import preprocessing\n",
    "\n",
    "xgb1 = xgb.XGBRegressor()\n",
    "parameters = {'nthread':[4], \n",
    "              'objective':['reg:linear'],\n",
    "              'learning_rate': [.03, 0.05, .07], \n",
    "              'max_depth': [5, 6, 7],\n",
    "              'min_child_weight': [4],\n",
    "              'silent': [1],\n",
    "              'subsample': [0.7],\n",
    "              'colsample_bytree': [0.7],\n",
    "              'n_estimators': [500]}\n",
    "\n",
    "xgb_grid = GridSearchCV(xgb1,\n",
    "                        parameters,\n",
    "                        cv = 2,\n",
    "                        n_jobs = 5,\n",
    "                        verbose=True)\n",
    "\n",
    "xgb_grid.fit(X_new_1,\n",
    "         y_train)\n",
    "\n",
    "print(\"Tuned Model Parameters: {}\".format(xgb_grid.best_params_))\n",
    "print(\"Best score is {}\".format(xgb_grid.best_score_))"
   ]
  },
  {
   "cell_type": "markdown",
   "metadata": {},
   "source": [
    "# Compare results\n",
    "Now it's possible to compare how accurate models were"
   ]
  },
  {
   "cell_type": "code",
   "execution_count": 178,
   "metadata": {},
   "outputs": [],
   "source": [
    "models_score = ({\n",
    "    'AdaBoost' : grid_ada.best_score_,\n",
    "    'Linear Regression' : LR_scores.mean(),\n",
    "'Random Forest' : grid_rf.best_score_,\n",
    "'Desicion tree': tree_cv.best_score_,\n",
    "'KNN': knn_cv.best_score_,\n",
    "'Xgboost': xgb_grid.best_score_})\n",
    "models_score = pd.Series(models_score).to_frame('Model_score')\n",
    "models_score = pd.DataFrame(models_score).reset_index()\n",
    "models_score.rename(columns={'index':'Model_name'}, inplace=True)\n",
    "models_score.sort_values(by='Model_score', inplace=True, ascending=False)"
   ]
  },
  {
   "cell_type": "code",
   "execution_count": 179,
   "metadata": {},
   "outputs": [
    {
     "data": {
      "image/png": "[encoded data removed]",
      "text/plain": [
       "<Figure size 432x288 with 1 Axes>"
      ]
     },
     "metadata": {
      "needs_background": "light"
     },
     "output_type": "display_data"
    }
   ],
   "source": [
    "sns.barplot(x='Model_score',y='Model_name', data=models_score)\n",
    "plt.show()"
   ]
  },
  {
   "cell_type": "markdown",
   "metadata": {},
   "source": [
    "The winner is the Xgboost algorithm, let's implement it to the test data set."
   ]
  },
  {
   "cell_type": "markdown",
   "metadata": {},
   "source": [
    "# Prediction"
   ]
  },
  {
   "cell_type": "code",
   "execution_count": 190,
   "metadata": {},
   "outputs": [],
   "source": [
    "path = '/Users/anatolyabramovich/Desktop/Documents/Study/Kaggle/house_pricing/test.csv'\n",
    "data_test = pd.read_csv(path, index_col='Id')"
   ]
  },
  {
   "cell_type": "code",
   "execution_count": 209,
   "metadata": {},
   "outputs": [],
   "source": [
    "X_test = data_test.loc[1:,important_cols]"
   ]
  },
  {
   "cell_type": "code",
   "execution_count": 210,
   "metadata": {},
   "outputs": [
    {
     "data": {
      "text/plain": [
       "array([133274.88, 172900.64, 173737.81, ..., 174029.9 , 109081.01,\n",
       "       241211.42], dtype=float32)"
      ]
     },
     "execution_count": 210,
     "metadata": {},
     "output_type": "execute_result"
    }
   ],
   "source": [
    "xgb_grid.predict(X_test)"
   ]
  },
  {
   "cell_type": "code",
   "execution_count": 211,
   "metadata": {},
   "outputs": [],
   "source": [
    "prediction_xgb = xgb_grid.predict(X_test)\n",
    "xgb_prediction = pd.Series(prediction_xgb, index= list(range(1461,2920))).to_frame('SalePrice')\n",
    "xgb_prediction.index.name= 'Id'\n",
    "xgb_prediction.to_csv('/Users/anatolyabramovich/Desktop/Documents/Study/Kaggle/house_pricing/xgb_prediction.csv')"
   ]
  },
  {
   "cell_type": "markdown",
   "metadata": {},
   "source": [
    "Final result - 0.16004 Root Mean Squared Logaritmic error.\n",
    "A lot of space to improve."
   ]
  }
 ],
 "metadata": {
  "kernelspec": {
   "display_name": "Python 3",
   "language": "python",
   "name": "python3"
  },
  "language_info": {
   "codemirror_mode": {
    "name": "ipython",
    "version": 3
   },
   "file_extension": ".py",
   "mimetype": "text/x-python",
   "name": "python",
   "nbconvert_exporter": "python",
   "pygments_lexer": "ipython3",
   "version": "3.7.6"
  }
 },
 "nbformat": 4,
 "nbformat_minor": 4
}
